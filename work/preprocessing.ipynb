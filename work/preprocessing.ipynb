{
 "cells": [
  {
   "cell_type": "markdown",
   "metadata": {},
   "source": [
    "## 前処理"
   ]
  },
  {
   "cell_type": "code",
   "execution_count": 2,
   "metadata": {},
   "outputs": [
    {
     "name": "stdout",
     "output_type": "stream",
     "text": [
      "INFO: Preprocessing 'data/jawiki20181220/jawiki-20181220-pages-articles-multistream.xml-001.bz2' to collect template definitions: this may take some time.\n",
      "^C\n",
      "Traceback (most recent call last):\n",
      "  File \"/usr/local/lib/python3.10/runpy.py\", line 196, in _run_module_as_main\n",
      "    return _run_code(code, main_globals, None,\n",
      "  File \"/usr/local/lib/python3.10/runpy.py\", line 86, in _run_code\n",
      "    exec(code, run_globals)\n",
      "  File \"/usr/local/lib/python3.10/site-packages/wikiextractor/WikiExtractor.py\", line 645, in <module>\n",
      "    main()\n",
      "  File \"/usr/local/lib/python3.10/site-packages/wikiextractor/WikiExtractor.py\", line 640, in main\n",
      "    process_dump(input_file, args.templates, output_path, file_size,\n",
      "  File \"/usr/local/lib/python3.10/site-packages/wikiextractor/WikiExtractor.py\", line 336, in process_dump\n",
      "    templates = load_templates(input, template_file)\n",
      "  File \"/usr/local/lib/python3.10/site-packages/wikiextractor/WikiExtractor.py\", line 209, in load_templates\n",
      "    for line in file:\n",
      "  File \"/usr/local/lib/python3.10/bz2.py\", line 176, in read1\n",
      "    return self._buffer.read1(size)\n",
      "  File \"/usr/local/lib/python3.10/_compression.py\", line 68, in readinto\n",
      "    data = self.read(len(byte_view))\n",
      "  File \"/usr/local/lib/python3.10/_compression.py\", line 97, in read\n",
      "    rawblock = self._fp.read(BUFFER_SIZE)\n",
      "KeyboardInterrupt\n"
     ]
    }
   ],
   "source": [
    "# ファイルの解凍\n",
    "!python -m wikiextractor.WikiExtractor model/bert/jawiki-20181220-pages-articles-multistream.xml-001.bz2 -b 500M -o data/jawiki20181220"
   ]
  },
  {
   "cell_type": "code",
   "execution_count": 54,
   "metadata": {},
   "outputs": [
    {
     "name": "stdout",
     "output_type": "stream",
     "text": [
      "アンパサンド (&amp;、英語名：) とは並立助詞「…と…」を意味する記号である。\n",
      "ラテン語の の合字で、trebuchet msフォントでは、と表示され \"et\" の合字であることが容易にわかる。\n",
      "ampersa、すなわち \"and per se and\"、その意味は\"and [the symbol which] by itself [is] and\"である。\n",
      "歴史.\n",
      "その使用は1世紀に遡ることができ、5世紀中葉から現代に至るまでの変遷がわかる。\n",
      "z に続くラテン文字アルファベットの27字目とされた時期もある。\n",
      "アンパサンドと同じ役割を果たす文字に「のet」と呼ばれる、数字の「7」に似た記号があった(, u+204a)。\n",
      "この記号は現在もゲール文字で使われている。\n",
      "記号名の「アンパサンド」は、ラテン語まじりの英語「&amp; はそれ自身 \"and\" を表す」(&amp; per se and) のくずれた形である。\n",
      "英語以外の言語での名称は多様である。\n",
      "手書き.\n",
      "日常的な手書きの場合、欧米でアンパサンドは「ε」に縦線を引く単純化されたものが使われることがある。\n",
      "また同様に、「t」または「+（プラス）」に輪を重ねたような、無声歯茎側面摩擦音を示す発音記号「」のようなものが使われることもある。\n",
      "プログラミング言語.\n",
      "プログラミング言語では、c など多数の言語で and 演算子として用いられる。\n",
      "以下は c の例。\n",
      "phpでは、変数宣言記号（$）の直前に記述することで、参照渡しを行うことができる。\n",
      "basic 系列の言語では文字列の連結演算子として使用される。\n",
      "codice_4 は codice_5 を返す。\n",
      "また、主にマイクロソフト系では整数の十六進表記に codice_6 を用い、codice_7 （十進で15）のように表現する。\n",
      "sgml、xml、htmlでは、アンパサンドを使ってsgml実体を参照する。\n",
      "\n",
      "この記事では言語（げんご）、特に自然言語について述べる。\n",
      "概要.\n",
      "広辞苑や大辞泉には次のようにある。\n",
      "辞典等には以上のようにあるわけだが、これは大きく二分すると「自然言語」と「形式言語」とがあるうちの自然言語について述べている。\n",
      "しかし、1950年代以降の言語学などでは、定義中にも「記号体系」といった表現もあるように形式的な面やその扱い、言い換えると形式言語的な面も扱うようになっており、こんにちの言語学において形式体系と全く無関係な分野はそう多くはない。\n",
      "形式的な議論では、「その言語における文字の、その言語の文法に従った並び」の集合が「言語」である、といったように定義される。\n",
      "言語は、人間が用いる意志伝達手段であり、社会集団内で形成習得され、意志を相互に伝達すること（コミュニケーション）や、抽象的な思考を可能にし、結果として人間の社会的活動や文化的活動を支えている。\n",
      "言語（個別言語）には、文化の特徴が織り込まれており、共同体のメンバーは、（その共同体で用いられている）言語の習得をすることによって、その共同体での社会的学習、および（その共同体で望ましいとされる）人格を形成してゆくことになる。\n",
      "ソシュールの研究が、言語学の発展の上で非常に重要な役割を果たしたわけであるが、ソシュール以降は、「共同体の用いる言語体系」のことは「langue ラング」と呼ばれ、それに対して、個々の人が行う（個別の）言語活動は「parole パロール」という用語で呼ばれるようになっている。\n",
      "（も参照）。\n",
      "こうした言語学で（ソシュール以降の言語学）は言語をどのように理解しているか、その用語も用いて説明すると、『「外的形式としての言語」は「音声言語」および音声言語を前提とした「文字言語」がある。\n",
      "「音声言語」は、「発話」と「了解」に分けられ、「言語単位」（音素・形態素・単語）を素として音韻体系・文法体系を構成している』ということになる。\n",
      "《音韻》 と 《意味》の間の結び付け方（連合）、また、《文字》と音韻・形態素・単語との間の結び付け方（連合）は、社会的に作られている習慣である（シニフィアンとシニフィエの記事も参照）。\n",
      "なお、(2016年)現在の言語学は、ソシュールの影響が下地にあるものの、主として1950年代前後に始まり広がった、チョムスキーによるものをはじめとする諸理論、およびそれ以降の、それらへの修正あるいは反論、に由来するものが多くを占めており、普通の言語学の議論では「ソシュールの言語学」（「近代言語学」あるいは「ヨーロッパ構造主義言語学」とも。\n",
      "「構造主義言語学」には「アメリカ構造主義言語学」もあるので注意）だけに拘ることは、あまりしない。\n",
      "自然発生的にあるものとしての「自然」言語、の他、近代以降、エスペラントなどの国際補助語など、人工言語も作られた。\n",
      "しかし、「人工言語」と呼ばれる言語のうち、エスペラントなど多くは、発生が積極的な人為によりなされたという点以外は、多くの点で自然言語と同様のものであり、偏見的な理由以外には区別する理由は無い（人工言語の記事も参照のこと）。\n",
      "自然言語の持ついくつかの性質を全く削いだ、形式言語として設計されている人工言語も一部にはある（ログランなど）。\n",
      "（言語学の用語に沿って）「動物のコミュニケーションの体系」も「言語」と呼ぶこともある、という主張がある。\n",
      "しかし、チョムスキー理論では「普遍文法」などの概念において、言語は人間のものという大前提があり、どういう意味で「言語学の用語に沿って」なのかは不明確である。\n",
      "他にも、言語にはさまざまな分類がある。\n",
      "前述の音声言語と文字言語の他、口語、口頭言語、書記言語、文語、といった分類があるが、重なる部分もありはっきり分類できるものでもない。\n",
      "また、一例として、「日本語対応手話」は一般の日本語の話し言葉や書き言葉と同一の言語の「視覚言語バージョン」であるが、「日本手話」は一般の日本語とは異なる言語と考えられており、そちらは音声言語や文字言語とは異なる「視覚言語」ということになる、など、分類は単純ではない。\n",
      "また屈折語・膠着語・孤立語といったような分類もある。\n",
      "詳細は言語類型論を参照。\n",
      "自然言語以外については、人工言語・形式言語・コンピュータ言語などの各記事を参照。\n",
      "実際の言語を広く研究すると、厳密には、言語の定義には多くの困難が伴う。\n",
      "コミュニケーションの「規則」がどこかに明記されており人々がそれを参照しながらコミュニケーションが行われるわけではなく、実際人々が単一の規則に従っていないと考えさせる材料もある。\n",
      "方言のような地理的なバリエーション、新語の普及のような歴史的変化、言い間違いや言いかけに終わる発言など、文法として通常考えられる規則に反する発話などが、その例として考えられる。\n",
      "（むしろ現代の言語学でさかんに研究されているテーマのようにも思われるが）\n",
      "なお、ジャック・デリダという、フランスの一般にポスト構造主義の代表的哲学者と位置づけられている哲学者は、「声」を基礎とし文字をその代替とする発想（「音声中心主義」、\"phonocentrism\" とデリダは称するもの）が言語学に存在する、と主張し、それに対する批判を投げかける立場を主張した（『声と現象』）。\n",
      "『グラマトロジーについて』と「差延」の記事も参照。\n",
      "個別言語は、民族の滅亡や他言語による吸収によって使用されなくなることがある。\n",
      "このような言語は死語と呼ばれ、死語が再び母語として使用されたことは歴史上にただ一例、ヘブライ語の例しかない。\n",
      "しかし、ヘブライ語は自然に復活したわけでも完全に消滅していたわけでもなく、文章語として存続していた言語を、パレスチナに移住したユダヤ人たちが20世紀に入って日常語として人工的に復活させ、イスラエル建国とともに公用語に指定して完全に再生させたものである。\n",
      "このほかにも、古典アラビア語、ラテン語、古典ギリシャ語のように、日常語としては消滅しているものの文章語としては存続している言語も存在する。\n",
      "このほか、日常ではもはや用いられず、教典や宗教行為のみで用いられるようになった典礼言語も存在する。\n",
      "近年、話者数が非常に少ない言語が他言語に飲み込まれて消滅し、新たに死語と化すことが問題視されるようになり、消滅の危機にある言語を危機言語と呼ぶようになった。\n",
      "これは、世界の一体化が進み、交通網の整備や流通の迅速化、ラジオ・テレビといったマスメディアの発達によってそれまで孤立を保っていた小さな言語がそのコミュニティを維持できなくなるために起こると考えられている。\n",
      "より大きな視点では英語の国際語としての勢力伸張による他主要言語の勢力縮小、いわゆる英語帝国主義もこれに含まれるといえるが、すくなくとも21世紀初頭においては英語を母語とする民族が多数派を占める国家を除いては英語のグローバル化が言語の危機に直結しているわけではない。\n",
      "他主要言語圏においても同様である。\n",
      "言語消滅は、隣接したより大きな言語集団（必ずしもその国の主要集団であるわけではない）との交流が不可欠となり、その言語圏に小言語集団が取り込まれることによって起きる。\n",
      "こうした動きは人的交流や文化的交流が盛んな先進国内においてより顕著であり、北アメリカやオーストラリアなどで言語消滅が急速に進み、経済成長と言語消滅との間には有意な相関があるとの研究も存在する。\n",
      "その他の地域においても言語消滅が進んでおり、2010年にはインド領のアンダマン諸島において言語が一つ消滅し、他にも同地域において消滅の危機にある言語が存在するとの警告が発せられた。\n",
      "歴史.\n",
      "起源.\n",
      "言語がいつどのように生まれたのか、生まれたのが地球上の一ヶ所か複数ヶ所かはわかっておらず、複数の説が存在するが、例えばデンマークの言語学者オットー・イェスペルセンは、以下のような説を唱えている。\n",
      "生物学的な観点から言語の起源を探ろうという試みもある。\n",
      "最近の分子生物学的研究によれば、foxp2と名づけられている遺伝子に生じたある種の変異が言語能力の獲得につながった可能性がある。\n",
      "さらにその変異は現生人類とネアンデルタール人が分化する以前の30-40万年前にはすでに生じていたとの解析結果が発表されており、現生人類が登場とともに既に言語を身につけていた可能性も考えられる。\n",
      "しかしfoxp2は言語能力を有しない他の動物の多くが持っていること、foxp2の変異が言語能力の獲得の必要条件であるとの直接的な証明はまだなされていないことなどに留意する必要がある。\n",
      "変化.\n",
      "生物の場合には、進化が止まった生物が現在も生き残っている「生きている化石」と呼ばれるものがある。\n",
      "また、一見似ている2種類が全然別の種類から進化していたというケースもある。\n",
      "言語にも同じような現象が起きており、その変化の速度は一定ではなく、侵略・交易・移動等他民族との接触が多ければ、その時言語も大きく変化する。\n",
      "代表例として英語、フランス語、ルーマニア語、アルバニア語、アルメニア語等がある。\n",
      "逆に接触が少ないとほとんど変化しなくなる。\n",
      "代表例としてドイツ語、アイスランド語、ギリシャ語、スラヴ語派、バルト語派（特にリトアニア語）、サンスクリット語等があり、特にアイスランド語は基本文法が1000年前とほとんど変っていない。\n",
      "言語はもともといくつかの祖語から分化したと考えられており、同一の祖語から発生したグループを語族と呼ぶ。\n",
      "語族はさらに語派、語群、そして言語と細分化されていく。\n",
      "世界の大多数の言語はなんらかの語族に属するが、なかには現存する他の言語と系統関係が立証されておらず、語族に分類できない孤立した言語も存在する。\n",
      "また、地理・文化的に近接する異なった系統の言語が相互に影響しあい顕著に類似する事例も見られ、これは言語連合と呼ばれる。\n",
      "同一語族に属する言語群の場合、共通語彙から言語の分化した年代を割り出す方法も考案されている。\n",
      "一つの言語の言語史を作る場合、単語・綴り・発音・文法等から古代 (old)・中世 (middle)・近代 (modern) と3分割し、例えば「中世フランス語」等と呼ぶ。\n",
      "古代教会スラヴ語は「古代」を付けたままだが、古代英語は 「古英語」、古代ギリシャ語は「古典ギリシャ語」がそれぞれ一般に用いられる。\n",
      "ある言語と他の言語が接触した場合、両言語の話者の交流が深まるにつれて様々な変化が発生する。\n",
      "これを言語接触という。\n",
      "言語接触によって、両言語には相手の言語から語彙を借用した借用語が発生するほか、交流が深まるにつれて商業や生活上の必要から混成言語が発生することがある。\n",
      "この混成言語は、初期にはピジン言語と呼ばれる非常に簡略化された形をとるが、やがて語彙が増え言語として成長してくると、クレオール言語という新しい言語となる。\n",
      "クレオール言語はピジン言語と比べ語彙も多く、何よりきちんと体系だった文法が存在しており、一個の独立した言語とみなして全く差し支えない。\n",
      "クレオール言語はピジン言語と違い、母語話者が存在するのも特徴である。\n",
      "中世の世界においてはしばしば、文語と日常使用する言語との間には隔たりがみられ、なかには中世ヨーロッパにおけるラテン語のようにその土地の言葉と全く異なる言語を文章語として採用している世界も存在した。\n",
      "ラテン語は欧州において知識人の間の共通語として用いられ、ルネサンスなどで大きな役割を果たしたが、やがて印刷術の発展や宗教改革などによって各国において使用される日常言語が文語として用いられるようになった。\n",
      "この際、それまで方言の連続体しか持たなかった各国において、その言語を筆記する標準的な表記法が定まっていき、各国において国内共通語としての標準語が制定されるようになった。\n",
      "これは出版物などによって徐々に定まっていくものもあれば、中央に公的な言語統制機関を置いて国家主導で標準語を制定するものもあったが、いずれにせよこうした言語の整備と国内共通語の成立は、国民国家を成立させるうえでの重要なピースとなっていった。\n",
      "最も新しい言語であり、また誕生する瞬間がとらえられた言語としては、ニカラグアの子供達の間で1970年代後半に発生した「ニカラグア手話」がある。\n",
      "これは、言語能力は人間に生得のものであるという考えを裏付けるものとなった。\n",
      "世界の言語.\n"
     ]
    }
   ],
   "source": [
    "!head -n 100 data/jawiki20181220/AA/wiki_00"
   ]
  },
  {
   "cell_type": "code",
   "execution_count": 1,
   "metadata": {},
   "outputs": [
    {
     "name": "stdout",
     "output_type": "stream",
     "text": [
      "find: ‘./data/jawiki20181220/AA/’: No such file or directory\n"
     ]
    }
   ],
   "source": [
    "# タグ削除などの前処理\n",
    "!bash src/preprocessing.sh"
   ]
  },
  {
   "cell_type": "code",
   "execution_count": 19,
   "metadata": {},
   "outputs": [
    {
     "name": "stdout",
     "output_type": "stream",
     "text": [
      "cat: data/jawiki-20181220/AA1/: Is a directory\n"
     ]
    }
   ],
   "source": [
    "# jawiki-20181220.txtにまとめる\n",
    "\n",
    "!find data/jawiki20181220/AA/ | grep wiki | awk '{system(\"cat \"$0\" >> data/jawiki-20181220.txt\")}'"
   ]
  },
  {
   "cell_type": "code",
   "execution_count": 21,
   "metadata": {},
   "outputs": [
    {
     "name": "stdout",
     "output_type": "stream",
     "text": [
      "アンパサンド (&amp;、英語名：) とは並立助詞「…と…」を意味する記号である。\n",
      "ラテン語の の合字で、trebuchet msフォントでは、と表示され \"et\" の合字であることが容易にわかる。\n",
      "ampersa、すなわち \"and per se and\"、その意味は\"and [the symbol which] by itself [is] and\"である。\n",
      "歴史.\n",
      "その使用は1世紀に遡ることができ、5世紀中葉から現代に至るまでの変遷がわかる。\n",
      "z に続くラテン文字アルファベットの27字目とされた時期もある。\n",
      "アンパサンドと同じ役割を果たす文字に「のet」と呼ばれる、数字の「7」に似た記号があった(, u+204a)。\n",
      "この記号は現在もゲール文字で使われている。\n",
      "記号名の「アンパサンド」は、ラテン語まじりの英語「&amp; はそれ自身 \"and\" を表す」(&amp; per se and) のくずれた形である。\n",
      "英語以外の言語での名称は多様である。\n"
     ]
    }
   ],
   "source": [
    "!head -n 10 data/jawiki20181220/jawiki-20181220.txt"
   ]
  },
  {
   "cell_type": "code",
   "execution_count": 22,
   "metadata": {},
   "outputs": [
    {
     "name": "stdout",
     "output_type": "stream",
     "text": [
      "  23400864  992456026 data/jawiki-20181220/jawiki-20181220.txt\n"
     ]
    }
   ],
   "source": [
    "# 行数と文字数をカウント\n",
    "!wc -ml data/jawiki20181220/jawiki-20181220.txt"
   ]
  },
  {
   "cell_type": "markdown",
   "metadata": {},
   "source": [
    "## Mecab"
   ]
  },
  {
   "cell_type": "code",
   "execution_count": 1,
   "metadata": {},
   "outputs": [
    {
     "data": {
      "text/plain": [
       "['私', 'は', '仕事', 'の', '最中', 'に', 'りんご', 'と', '最中', 'を', '食べ', 'た']"
      ]
     },
     "execution_count": 1,
     "metadata": {},
     "output_type": "execute_result"
    }
   ],
   "source": [
    "import MeCab\n",
    "wakati = MeCab.Tagger('-Owakati -d /usr/lib/x86_64-linux-gnu/mecab/dic/mecab-ipadic-neologd')\n",
    "wakati.parse('私は仕事の最中にりんごと最中を食べた').split()"
   ]
  },
  {
   "cell_type": "code",
   "execution_count": 29,
   "metadata": {},
   "outputs": [],
   "source": [
    "!mecab -d /usr/lib/x86_64-linux-gnu/mecab/dic/mecab-ipadic-neologd -Owakati data/jawiki20181220/jawiki-20181220.txt -o data/jawiki20181220/wakati.txt -b 81920"
   ]
  },
  {
   "cell_type": "code",
   "execution_count": 30,
   "metadata": {},
   "outputs": [
    {
     "name": "stdout",
     "output_type": "stream",
     "text": [
      "アンパサンド (& amp ;、 英語名 ：) と は 並立 助詞 「 … と … 」 を 意味 する 記号 で ある 。 \n",
      "ラテン語 の の 合字 で 、 trebuchet ms フォント で は 、 と 表示 さ れ \" et \" の 合字 で ある こと が 容易 に わかる 。 \n",
      "ampersa 、 すなわち \" and per se and \"、 その 意味 は \" and [ the symbol which ] by itself [ is ] and \" で ある 。 \n",
      "歴史 . \n",
      "その 使用 は 1世紀 に 遡る こと が でき 、 5世紀 中葉 から 現代 に 至る まで の 変遷 が わかる 。 \n",
      "z に 続く ラテン文字 アルファベット の 27 字 目 と さ れ た 時期 も ある 。 \n",
      "アンパサンド と 同じ 役割 を 果たす 文字 に 「 の et 」 と 呼ば れる 、 数字 の 「 7 」 に 似 た 記号 が あっ た (, u + 204 a )。 \n",
      "この 記号 は 現在 も ゲール文字 で 使わ れ て いる 。 \n",
      "記号 名 の 「 アンパサンド 」 は 、 ラテン語 まじり の 英語 「& amp ; は それ 自身 \" and \" を 表す 」(& amp ; per se and ) の くずれ た 形 で ある 。 \n",
      "英語 以外 の 言語 で の 名称 は 多様 で ある 。 \n"
     ]
    }
   ],
   "source": [
    "!head -n 10 data/jawiki20181220/wakati.txt"
   ]
  },
  {
   "cell_type": "markdown",
   "metadata": {},
   "source": [
    "## SentencePiece"
   ]
  },
  {
   "cell_type": "code",
   "execution_count": 31,
   "metadata": {},
   "outputs": [],
   "source": [
    "!head -n 100 data/jawiki20181220/jawiki-20181220.txt > data/jawiki20181220/sample.txt"
   ]
  },
  {
   "cell_type": "code",
   "execution_count": 45,
   "metadata": {},
   "outputs": [],
   "source": [
    "import pathlib\n",
    "import sentencepiece as spm\n",
    "\n",
    "model_path = 'model/bert/wiki-ja.model'\n",
    "sp = spm.SentencePieceProcessor(model_file=model_path)"
   ]
  },
  {
   "cell_type": "code",
   "execution_count": 52,
   "metadata": {},
   "outputs": [
    {
     "data": {
      "text/plain": [
       "['▁', '未', '達成']"
      ]
     },
     "execution_count": 52,
     "metadata": {},
     "output_type": "execute_result"
    }
   ],
   "source": [
    "sp.encode('未達成', out_type=str)"
   ]
  },
  {
   "cell_type": "code",
   "execution_count": 44,
   "metadata": {},
   "outputs": [
    {
     "ename": "KeyboardInterrupt",
     "evalue": "",
     "output_type": "error",
     "traceback": [
      "\u001b[0;31m---------------------------------------------------------------------------\u001b[0m",
      "\u001b[0;31mKeyboardInterrupt\u001b[0m                         Traceback (most recent call last)",
      "\u001b[1;32m/work/preprocessing.ipynb Cell 17\u001b[0m line \u001b[0;36m1\n\u001b[1;32m     <a href='vscode-notebook-cell://attached-container%2B7b22636f6e7461696e65724e616d65223a222f7a656d696d69227d/work/preprocessing.ipynb#X20sdnNjb2RlLXJlbW90ZQ%3D%3D?line=11'>12</a>\u001b[0m \u001b[39mfor\u001b[39;00m line \u001b[39min\u001b[39;00m ifile:\n\u001b[1;32m     <a href='vscode-notebook-cell://attached-container%2B7b22636f6e7461696e65724e616d65223a222f7a656d696d69227d/work/preprocessing.ipynb#X20sdnNjb2RlLXJlbW90ZQ%3D%3D?line=12'>13</a>\u001b[0m     encoded_line \u001b[39m=\u001b[39m sp\u001b[39m.\u001b[39mencode(line, out_type\u001b[39m=\u001b[39m\u001b[39mstr\u001b[39m)\n\u001b[0;32m---> <a href='vscode-notebook-cell://attached-container%2B7b22636f6e7461696e65724e616d65223a222f7a656d696d69227d/work/preprocessing.ipynb#X20sdnNjb2RlLXJlbW90ZQ%3D%3D?line=14'>15</a>\u001b[0m     \u001b[39mwith\u001b[39;00m \u001b[39mopen\u001b[39;49m(output_file, \u001b[39m'\u001b[39;49m\u001b[39ma+\u001b[39;49m\u001b[39m'\u001b[39;49m) \u001b[39mas\u001b[39;00m ofile:\n\u001b[1;32m     <a href='vscode-notebook-cell://attached-container%2B7b22636f6e7461696e65724e616d65223a222f7a656d696d69227d/work/preprocessing.ipynb#X20sdnNjb2RlLXJlbW90ZQ%3D%3D?line=15'>16</a>\u001b[0m         ofile\u001b[39m.\u001b[39mwrite(\u001b[39m'\u001b[39m\u001b[39m \u001b[39m\u001b[39m'\u001b[39m\u001b[39m.\u001b[39mjoin(encoded_line) \u001b[39m+\u001b[39m \u001b[39m'\u001b[39m\u001b[39m\\n\u001b[39;00m\u001b[39m'\u001b[39m)\n",
      "File \u001b[0;32m/usr/local/lib/python3.10/site-packages/IPython/core/interactiveshell.py:310\u001b[0m, in \u001b[0;36m_modified_open\u001b[0;34m(file, *args, **kwargs)\u001b[0m\n\u001b[1;32m    303\u001b[0m \u001b[39mif\u001b[39;00m file \u001b[39min\u001b[39;00m {\u001b[39m0\u001b[39m, \u001b[39m1\u001b[39m, \u001b[39m2\u001b[39m}:\n\u001b[1;32m    304\u001b[0m     \u001b[39mraise\u001b[39;00m \u001b[39mValueError\u001b[39;00m(\n\u001b[1;32m    305\u001b[0m         \u001b[39mf\u001b[39m\u001b[39m\"\u001b[39m\u001b[39mIPython won\u001b[39m\u001b[39m'\u001b[39m\u001b[39mt let you open fd=\u001b[39m\u001b[39m{\u001b[39;00mfile\u001b[39m}\u001b[39;00m\u001b[39m by default \u001b[39m\u001b[39m\"\u001b[39m\n\u001b[1;32m    306\u001b[0m         \u001b[39m\"\u001b[39m\u001b[39mas it is likely to crash IPython. If you know what you are doing, \u001b[39m\u001b[39m\"\u001b[39m\n\u001b[1;32m    307\u001b[0m         \u001b[39m\"\u001b[39m\u001b[39myou can use builtins\u001b[39m\u001b[39m'\u001b[39m\u001b[39m open.\u001b[39m\u001b[39m\"\u001b[39m\n\u001b[1;32m    308\u001b[0m     )\n\u001b[0;32m--> 310\u001b[0m \u001b[39mreturn\u001b[39;00m io_open(file, \u001b[39m*\u001b[39;49margs, \u001b[39m*\u001b[39;49m\u001b[39m*\u001b[39;49mkwargs)\n",
      "File \u001b[0;32m/usr/local/lib/python3.10/codecs.py:309\u001b[0m, in \u001b[0;36mBufferedIncrementalDecoder.__init__\u001b[0;34m(self, errors)\u001b[0m\n\u001b[1;32m    303\u001b[0m \u001b[39mclass\u001b[39;00m \u001b[39mBufferedIncrementalDecoder\u001b[39;00m(IncrementalDecoder):\n\u001b[1;32m    304\u001b[0m \u001b[39m    \u001b[39m\u001b[39m\"\"\"\u001b[39;00m\n\u001b[1;32m    305\u001b[0m \u001b[39m    This subclass of IncrementalDecoder can be used as the baseclass for an\u001b[39;00m\n\u001b[1;32m    306\u001b[0m \u001b[39m    incremental decoder if the decoder must be able to handle incomplete\u001b[39;00m\n\u001b[1;32m    307\u001b[0m \u001b[39m    byte sequences.\u001b[39;00m\n\u001b[1;32m    308\u001b[0m \u001b[39m    \"\"\"\u001b[39;00m\n\u001b[0;32m--> 309\u001b[0m     \u001b[39mdef\u001b[39;00m \u001b[39m__init__\u001b[39m(\u001b[39mself\u001b[39m, errors\u001b[39m=\u001b[39m\u001b[39m'\u001b[39m\u001b[39mstrict\u001b[39m\u001b[39m'\u001b[39m):\n\u001b[1;32m    310\u001b[0m         IncrementalDecoder\u001b[39m.\u001b[39m\u001b[39m__init__\u001b[39m(\u001b[39mself\u001b[39m, errors)\n\u001b[1;32m    311\u001b[0m         \u001b[39m# undecoded input that is kept between calls to decode()\u001b[39;00m\n",
      "\u001b[0;31mKeyboardInterrupt\u001b[0m: "
     ]
    }
   ],
   "source": [
    "import pathlib\n",
    "import sentencepiece as spm\n",
    "\n",
    "model_path = 'model/bert/wiki-ja.model'\n",
    "sp = spm.SentencePieceProcessor(model_file=model_path)\n",
    "\n",
    "input_file = 'data/jawiki20181220/jawiki-20181220.txt'\n",
    "# input_file = 'data/jawiki20181220/sample.txt'\n",
    "output_file = 'data/jawiki20181220/wakati_sp.txt'\n",
    "\n",
    "with open(input_file, 'r') as ifile:\n",
    "    for line in ifile:\n",
    "        encoded_line = sp.encode(line, out_type=str)\n",
    "\n",
    "        with open(output_file, 'a+') as ofile:\n",
    "            ofile.write(' '.join(encoded_line) + '\\n')"
   ]
  },
  {
   "cell_type": "code",
   "execution_count": 43,
   "metadata": {},
   "outputs": [
    {
     "name": "stdout",
     "output_type": "stream",
     "text": [
      "▁アン パ サンド ▁( & amp ; 、 英語 名 :) ▁ とは 並 立 助 詞 「 ... と ...」 を意味する 記号 である 。\n",
      "▁ ラテン語 の ▁ の 合 字 で 、 tre bu che t ▁ ms フォント では 、 と 表示 され ▁\" et \" ▁ の 合 字 であることが 容易に わかる 。\n",
      "▁am per sa 、 すなわち ▁\" and ▁per ▁se ▁and \" 、 その 意味 は \" and ▁[ the ▁ sy m bol ▁w h ich ] ▁by ▁it self ▁[ is ] ▁and \" である 。\n",
      "▁ 歴史 .\n",
      "▁その 使用 は 1 世紀 に遡る ことができ 、 5 世紀 中 葉 から 現代 に至るまで の 変遷 が わかる 。\n",
      "▁z ▁ に続く ラテン文字 アルファベット の 27 字 目 とされた 時期 もある 。\n",
      "▁アン パ サンド と同じ 役割を果たす 文字 に 「 の et 」 と呼ばれる 、 数字 の 「 7 」 に似た 記号 があった (, ▁u + 20 4 a ) 。\n",
      "▁この 記号 は 現在も ゲール 文字 で 使われている 。\n",
      "▁ 記号 名の 「 アン パ サンド 」 は 、 ラテン語 まじ り の 英語 「 & amp ; ▁ はそれ 自身 ▁\" and \" ▁ を表す 」( & amp ; ▁per ▁se ▁and ) ▁ の く ずれ た 形 である 。\n",
      "▁ 英語 以外の 言語 で の名称は 多様 である 。\n"
     ]
    }
   ],
   "source": [
    "!head -n 10 data/jawiki20181220/sentences.txt"
   ]
  }
 ],
 "metadata": {
  "kernelspec": {
   "display_name": "Python 3 (ipykernel)",
   "language": "python",
   "name": "python3"
  },
  "language_info": {
   "codemirror_mode": {
    "name": "ipython",
    "version": 3
   },
   "file_extension": ".py",
   "mimetype": "text/x-python",
   "name": "python",
   "nbconvert_exporter": "python",
   "pygments_lexer": "ipython3",
   "version": "3.10.0"
  }
 },
 "nbformat": 4,
 "nbformat_minor": 4
}
