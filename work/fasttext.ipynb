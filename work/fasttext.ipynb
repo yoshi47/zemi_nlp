{
 "cells": [
  {
   "cell_type": "markdown",
   "metadata": {},
   "source": [
    "## fastTextの学習"
   ]
  },
  {
   "cell_type": "code",
   "execution_count": 1,
   "metadata": {},
   "outputs": [],
   "source": [
    "from gensim.models import fasttext, word2vec"
   ]
  },
  {
   "cell_type": "code",
   "execution_count": 3,
   "metadata": {},
   "outputs": [],
   "source": [
    "ft_train_data = word2vec.LineSentence('data/jawiki20181220/wakati.txt')"
   ]
  },
  {
   "cell_type": "code",
   "execution_count": 4,
   "metadata": {},
   "outputs": [
    {
     "name": "stdout",
     "output_type": "stream",
     "text": [
      "CPU times: user 2h 29min 12s, sys: 1min 27s, total: 2h 30min 40s\n",
      "Wall time: 42min 42s\n"
     ]
    }
   ],
   "source": [
    "%%time\n",
    "model = fasttext.FastText(ft_train_data, vector_size=200, window=5, min_count=5, sample=1e-3, negative=5, hs=0, workers=10, seed=0)\n",
    "model.save('model/fasttext/jawiki20181220_fasttext.model')"
   ]
  },
  {
   "cell_type": "code",
   "execution_count": 3,
   "metadata": {},
   "outputs": [],
   "source": [
    "model = fasttext.FastText.load('model/fasttext/jawiki20181220_fasttext.model')"
   ]
  },
  {
   "cell_type": "code",
   "execution_count": 4,
   "metadata": {},
   "outputs": [
    {
     "name": "stdout",
     "output_type": "stream",
     "text": [
      "('秋', 0.9457205533981323)\n",
      "('夏', 0.8805810213088989)\n",
      "('アサト', 0.7694794535636902)\n",
      "('深浦加奈子', 0.743209183216095)\n",
      "('冬', 0.7428714036941528)\n",
      "('春に', 0.7339407801628113)\n",
      "('1月中旬', 0.7141537070274353)\n",
      "('3月下旬', 0.711146354675293)\n",
      "('2月下旬', 0.7104445099830627)\n",
      "('1月上旬', 0.7080256342887878)\n"
     ]
    }
   ],
   "source": [
    "# ”春”という単語に類似する単語を出力\n",
    "outputs = model.wv.most_similar('春', topn=10)\n",
    "\n",
    "for word in outputs:\n",
    "    print(word)"
   ]
  },
  {
   "cell_type": "code",
   "execution_count": 10,
   "metadata": {},
   "outputs": [
    {
     "name": "stdout",
     "output_type": "stream",
     "text": [
      "('コンペティションサス', 0.9356364011764526)\n",
      "('ビアコンペティション', 0.9352023601531982)\n",
      "('コンペティション', 0.9323607683181763)\n",
      "('キッキングコンペティション', 0.9320433735847473)\n",
      "('ピティナピアノコンペティション', 0.9205949902534485)\n",
      "('オフシアターコンペティション', 0.9193370342254639)\n",
      "('ラルブル・コンペティション', 0.917893648147583)\n",
      "('ピティナ・ピアノコンペティション', 0.9119752049446106)\n",
      "('オフィシャルコンペティション', 0.9022998213768005)\n",
      "('ショートフィルムコンペティション', 0.8999265432357788)\n"
     ]
    }
   ],
   "source": [
    "outputs = model.wv.most_similar('コンペティションチャレンジ', topn=10)\n",
    "\n",
    "for word in outputs:\n",
    "    print(word)"
   ]
  },
  {
   "cell_type": "code",
   "execution_count": null,
   "metadata": {},
   "outputs": [],
   "source": []
  }
 ],
 "metadata": {
  "kernelspec": {
   "display_name": "Python 3",
   "language": "python",
   "name": "python3"
  },
  "language_info": {
   "codemirror_mode": {
    "name": "ipython",
    "version": 3
   },
   "file_extension": ".py",
   "mimetype": "text/x-python",
   "name": "python",
   "nbconvert_exporter": "python",
   "pygments_lexer": "ipython3",
   "version": "3.10.0"
  }
 },
 "nbformat": 4,
 "nbformat_minor": 2
}
