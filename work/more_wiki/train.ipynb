{
 "cells": [
  {
   "cell_type": "markdown",
   "metadata": {},
   "source": [
    "違う前処理で"
   ]
  },
  {
   "cell_type": "code",
   "execution_count": null,
   "metadata": {},
   "outputs": [],
   "source": [
    "# HTMLタグを削除\n",
    "!sed -e 's/<[^>]*>//g' ../data/jawiki20181220/jawiki-20181220.txt > wiki.txt"
   ]
  },
  {
   "cell_type": "code",
   "execution_count": null,
   "metadata": {},
   "outputs": [],
   "source": [
    "#全角カッコを半角に\n",
    "!sed -i -e 's/（/(/g' wiki.txt && sed -i -e 's/）/)/g' wiki.txt"
   ]
  },
  {
   "cell_type": "code",
   "execution_count": null,
   "metadata": {},
   "outputs": [],
   "source": [
    "#カッコ内を削除\n",
    "!sed -i -e 's/([^)]*)//g' wiki.txt"
   ]
  },
  {
   "cell_type": "code",
   "execution_count": null,
   "metadata": {},
   "outputs": [],
   "source": [
    "#空白をすべて埋めたあと空行を削除\n",
    "!sed -i -e 's/ //g' wiki.txt && sed -i -e '/^$/d' wiki.txt"
   ]
  },
  {
   "cell_type": "code",
   "execution_count": 1,
   "metadata": {},
   "outputs": [
    {
     "name": "stdout",
     "output_type": "stream",
     "text": [
      "  21465636  910574922 wiki.txt\n"
     ]
    }
   ],
   "source": [
    "# 行数と文字数をカウント\n",
    "!wc -ml wiki.txt"
   ]
  },
  {
   "cell_type": "code",
   "execution_count": 2,
   "metadata": {},
   "outputs": [],
   "source": [
    "!mecab -d /usr/lib/x86_64-linux-gnu/mecab/dic/mecab-ipadic-neologd -Owakati wiki.txt -o wakati.txt -b 81920"
   ]
  },
  {
   "cell_type": "code",
   "execution_count": 5,
   "metadata": {},
   "outputs": [],
   "source": [
    "from gensim.models import fasttext, word2vec\n",
    "\n",
    "train_data = word2vec.LineSentence('wakati.txt')"
   ]
  },
  {
   "cell_type": "code",
   "execution_count": 4,
   "metadata": {},
   "outputs": [],
   "source": [
    "model = word2vec.Word2Vec(train_data, vector_size=200, window=5, min_count=5, sample=1e-3, negative=5, hs=0, workers=10,seed=0)\n",
    "model.save(\"word2vec/w2v.model\")"
   ]
  },
  {
   "cell_type": "code",
   "execution_count": 7,
   "metadata": {},
   "outputs": [],
   "source": [
    "model = fasttext.FastText(train_data, vector_size=200, window=5, min_count=5, sample=1e-3, negative=5, hs=0, workers=10, seed=0)\n",
    "model.save('fasttext/ft.model')"
   ]
  },
  {
   "cell_type": "code",
   "execution_count": null,
   "metadata": {},
   "outputs": [],
   "source": []
  }
 ],
 "metadata": {
  "kernelspec": {
   "display_name": "Python 3",
   "language": "python",
   "name": "python3"
  },
  "language_info": {
   "codemirror_mode": {
    "name": "ipython",
    "version": 3
   },
   "file_extension": ".py",
   "mimetype": "text/x-python",
   "name": "python",
   "nbconvert_exporter": "python",
   "pygments_lexer": "ipython3",
   "version": "3.10.0"
  }
 },
 "nbformat": 4,
 "nbformat_minor": 2
}
